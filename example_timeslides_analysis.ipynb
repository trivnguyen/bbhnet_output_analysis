{
 "cells": [
  {
   "cell_type": "markdown",
   "metadata": {},
   "source": [
    "In this notebook, we use `scipy.signal.find_peaks` peak finder algorithm to determine the false trigger rate of the BBHnet. "
   ]
  },
  {
   "cell_type": "code",
   "execution_count": 1,
   "metadata": {},
   "outputs": [],
   "source": [
    "import os\n",
    "import h5py\n",
    "import glob\n",
    "\n",
    "import numpy as np\n",
    "import scipy.signal as sig\n",
    "import matplotlib as mpl\n",
    "import matplotlib.pyplot as plt\n",
    "from matplotlib.ticker import (MultipleLocator, AutoMinorLocator)\n",
    "\n",
    "from gwpy.timeseries import TimeSeries\n",
    "from gwpy.table import EventTable\n",
    "\n",
    "%matplotlib inline\n",
    "\n",
    "mpl.rcParams['text.usetex'] = True\n",
    "mpl.rcParams['font.family'] = 'STIXGeneral'\n",
    "mpl.rcParams['font.size'] = 20\n",
    "mpl.rcParams['figure.figsize'] = (8, 6)\n",
    "mpl.rcParams['figure.facecolor']  = 'w'\n",
    "mpl.rcParams['savefig.dpi'] = 300\n",
    "mpl.rcParams['text.latex.preamble'] = r'\\usepackage{amsmath}'"
   ]
  },
  {
   "cell_type": "code",
   "execution_count": 2,
   "metadata": {},
   "outputs": [],
   "source": [
    "# Define some constants\n",
    "# GPS time of confirmed GW in August 2017\n",
    "event_tc = [1186302519.8, 1186741861.5, 1187058327.1, 1187529256.5]\n",
    "event_names = ['GW170809', 'GW170814', 'GW170818', 'GW170823']\n",
    "\n",
    "# Path to directory with NN output\n",
    "output_dir = '/home/tri.nguyen/gcp_data/hepcloud-output-jobsplit-full/'"
   ]
  },
  {
   "cell_type": "markdown",
   "metadata": {},
   "source": [
    "Because the background of the LIGO detectors is non-stationary (changing as a function of time), before applying the peak finder algorithm to the output of the neural network, we will fit and subtract a linear background over each frame.\n",
    "\n",
    "To find the background, we first fit a linear function using `numpy.polyfit` over the output. We then calculate the normalized errors of the fit for each sample and exclude sample with more than `error_threshold=5`. We repeat this step for `n_iterations=10` or until the sample size is less than half of the original sample size."
   ]
  },
  {
   "cell_type": "code",
   "execution_count": 3,
   "metadata": {},
   "outputs": [],
   "source": [
    "def fit_background(t, data, error_threshold=5, n_iterations=10):\n",
    "    ''' return best fit of background '''\n",
    "    x = t - t[0]\n",
    "    y = data\n",
    "    N_total = len(y)\n",
    "    \n",
    "    best_fits = None\n",
    "    for i in range(n_iterations):\n",
    "        # get best fit\n",
    "        best_fits = np.polyfit(x, y, 1)\n",
    "\n",
    "        # compute fit stdv to exclude outlier\n",
    "        y_pred = best_fits[0] * x + best_fits[1]\n",
    "        sigma = np.sqrt(np.sum((y - y_pred)**2)) / len(y)\n",
    "        norm_error = (y - y_pred) / sigma\n",
    "        \n",
    "        # update selection\n",
    "        selection = np.abs(norm_error) <= error_threshold\n",
    "        x = x[selection]\n",
    "        y = y[selection]\n",
    "        \n",
    "        # break loop if too few samples\n",
    "        if len(y) < N_total / 2:\n",
    "            break\n",
    "\n",
    "    return best_fits\n",
    "\n",
    "def transform(t, data):\n",
    "    ''' post-processing function '''\n",
    "    \n",
    "    # fit and subtract background\n",
    "    best_fits = fit_background(t, data)\n",
    "    background = (t - t[0]) * best_fits[0] + best_fits[1]\n",
    "    \n",
    "    return data - background"
   ]
  },
  {
   "cell_type": "markdown",
   "metadata": {},
   "source": [
    "After subtracting the background, we apply `scipy.signal.find_peaks` to the processed output. Because the neural network takes an input size of 1 second, we restrict the width of the triggers from 0.95 to 1.05 seconds. This accounts for edge effect and excldues triggers caused by glitches.\n",
    "\n",
    "As an example, we will apply our analysis algorithm (background subtraction + peak finder) to the output frame containing GW170809, a confirmed GW detection."
   ]
  },
  {
   "cell_type": "code",
   "execution_count": 4,
   "metadata": {},
   "outputs": [
    {
     "name": "stdout",
     "output_type": "stream",
     "text": [
      "Found queried event in /home/tri.nguyen/gcp_data/hepcloud-output-jobsplit-full/dt-0.0/5/out/out_1186301952-1024.hdf5\n"
     ]
    }
   ],
   "source": [
    "# Define some output and peak finder parameters\n",
    "num_jobs = 18  # number of mini jobs\n",
    "\n",
    "# GPS trigger time and name of GW170809\n",
    "tc = event_tc[0]\n",
    "name = event_names[0]\n",
    "\n",
    "# Loop over all output files and get the frame containing GW170809\n",
    "for i_job in range(num_jobs):\n",
    "    \n",
    "    output_files = sorted(glob.glob(os.path.join(\n",
    "        output_dir, 'dt-0.0/{}/out/*.hdf5'.format(i_job))))\n",
    "    \n",
    "    for output_file in output_files:\n",
    "        with h5py.File(output_file, 'r') as f:\n",
    "            # read in gps time of frame\n",
    "            t_start = f['GPSstart'][0]\n",
    "            t_stop = f['GPSstart'][-1]\n",
    "            \n",
    "            # if the frame contains GW170809\n",
    "            if (t_start < tc) & (tc < t_stop):\n",
    "                \n",
    "                print('Found queried event in {}'.format(output_file))\n",
    "\n",
    "                # get data and apply background subtraction\n",
    "                t = f['GPSstart'][:]\n",
    "                output = f['out'][:].ravel()\n",
    "                output = transform(t, output)\n",
    "                \n",
    "                break"
   ]
  },
  {
   "cell_type": "code",
   "execution_count": 5,
   "metadata": {},
   "outputs": [
    {
     "name": "stdout",
     "output_type": "stream",
     "text": [
      "[9080]\n"
     ]
    }
   ],
   "source": [
    "# Apply peak finder to the output\n",
    "sample_rate = 16  # sample rate of network output\n",
    "min_height = 20  # minimum height of trigger above background\n",
    "min_width = 0.95 * sample_rate\n",
    "max_width = 1.05 * sample_rate\n",
    "triggers, _ = sig.find_peaks(output, height=min_height, width=(min_width, max_width))\n",
    "\n",
    "# Print out all triggers\n",
    "print(triggers)"
   ]
  },
  {
   "cell_type": "markdown",
   "metadata": {},
   "source": [
    "The peak finder algorithm found 1 trigger in the frame. We want to check if this trigger coincides with GW170809."
   ]
  },
  {
   "cell_type": "code",
   "execution_count": 6,
   "metadata": {},
   "outputs": [
    {
     "name": "stdout",
     "output_type": "stream",
     "text": [
      "Trigger time : 1186302519.5\n",
      "GW170809 time: 1186302519.8\n",
      "Difference: 0.3 seconds\n"
     ]
    }
   ],
   "source": [
    "# simply compare the GPS time GW170809 and trigger\n",
    "print('Trigger time : {:.1f}'.format(t[triggers][0]))\n",
    "print('GW170809 time: {:.1f}'.format(tc))\n",
    "print('Difference: {:.1f} seconds'.format(np.abs(tc - t[triggers][0])))"
   ]
  },
  {
   "cell_type": "markdown",
   "metadata": {},
   "source": [
    "We see that the trigger found coincides with GW170809. Our neural network and detection pipeline have successfully detect GW170809! For visualization purposes, we will plot the output time series and mark all the triggers detected."
   ]
  },
  {
   "cell_type": "code",
   "execution_count": 7,
   "metadata": {},
   "outputs": [
    {
     "data": {
      "image/png": "[encoded data removed]",
      "text/plain": [
       "<Figure size 864x396 with 1 Axes>"
      ]
     },
     "metadata": {},
     "output_type": "display_data"
    }
   ],
   "source": [
    "# Plot frame and trigger\n",
    "fig, ax = plt.subplots(1, figsize=(12, 5.5))\n",
    "\n",
    "ax.plot(t, output)\n",
    "ax.plot(t[triggers], output[triggers], 'x', color='k', ms=20, lw=10)\n",
    "ax.set_xlabel('GPS Time [sec]')\n",
    "ax.set_ylabel('Network output')\n",
    "\n",
    "fig.tight_layout()"
   ]
  },
  {
   "cell_type": "markdown",
   "metadata": {},
   "source": [
    "Indeed, the network output for GW170809 stands out among the rest of the background. We see that the network also detect some glitches (i.e. transient noise) based on the negative score.\n",
    "\n",
    "For our next example, we consider the 0-lag data. We will calculate the false alarm rate (FAR) in unit of $\\mathrm{yr}^{-1}$ as a function of minimum trigger height. As the minimum trigger height *increases*, we will expect the neural network to trigger *less often* on glitches and other noises."
   ]
  },
  {
   "cell_type": "code",
   "execution_count": 8,
   "metadata": {},
   "outputs": [
    {
     "name": "stdout",
     "output_type": "stream",
     "text": [
      "Found GW170809 event in /home/tri.nguyen/gcp_data/hepcloud-output-jobsplit-full/dt-0.0/5/out/out_1186301952-1024.hdf5\n",
      "Found GW170814 event in /home/tri.nguyen/gcp_data/hepcloud-output-jobsplit-full/dt-0.0/8/out/out_1186741248-1024.hdf5\n",
      "Found GW170818 event in /home/tri.nguyen/gcp_data/hepcloud-output-jobsplit-full/dt-0.0/11/out/out_1187057664-1024.hdf5\n",
      "Found GW170823 event in /home/tri.nguyen/gcp_data/hepcloud-output-jobsplit-full/dt-0.0/15/out/out_1187528704-1024.hdf5\n"
     ]
    }
   ],
   "source": [
    "# Define some peak finder parameters\n",
    "# same with above, but we vary the minimum height instaed\n",
    "sample_rate = 16  # sample rate of network output\n",
    "min_width = 0.95 * sample_rate\n",
    "max_width = 1.05 * sample_rate\n",
    "min_heights = np.arange(0., 30., 0.5)\n",
    "\n",
    "# We will keep track of the number of triggers per min height\n",
    "# in addition, we will also keep track of the total analysis time\n",
    "num_triggers = np.zeros_like(min_heights)\n",
    "T_analysis = 0\n",
    "\n",
    "# Loop over all output files and get the frame containing GW170809\n",
    "for i_job in range(num_jobs):\n",
    "    \n",
    "    output_files = sorted(glob.glob(os.path.join(\n",
    "        output_dir, 'dt-0.0/{}/out/*.hdf5'.format(i_job))))\n",
    "    \n",
    "    for output_file in output_files:\n",
    "        with h5py.File(output_file, 'r') as f:\n",
    "            # read in gps time of frame\n",
    "            t_start = f['GPSstart'][0]\n",
    "            t_stop = f['GPSstart'][-1]\n",
    "            \n",
    "            # we want to check if there is a confirmed GW in the frame\n",
    "            # we will ignore those frame\n",
    "            has_event = False\n",
    "            for name, tc in zip(event_names, event_tc):\n",
    "                if (t_start < tc) & (tc < t_stop):\n",
    "                    print('Found {} event in {}'.format(name, output_file))\n",
    "                    has_event = True\n",
    "            if has_event:\n",
    "                continue\n",
    "            \n",
    "            # If there is no event\n",
    "            # get data and apply background subtraction\n",
    "            t = f['GPSstart'][:]\n",
    "            output = f['out'][:].ravel()\n",
    "            output = transform(t, output)\n",
    "     \n",
    "\n",
    "            # use scipy.signal.find_peaks to find triggers\n",
    "            # count number of triggers as a function of the trigger height\n",
    "            for i, height in enumerate(min_heights):\n",
    "                triggers, _ = sig.find_peaks(\n",
    "                    output, height=height, width=(min_width, max_width))\n",
    "                num_triggers[i] += len(triggers)\n",
    "            \n",
    "            # also keep track of live time\n",
    "            T_analysis += t_stop - t_start\n",
    "\n",
    "# convert livetime from seconds to years\n",
    "T_analysis /= 3.154e+7  "
   ]
  },
  {
   "cell_type": "markdown",
   "metadata": {},
   "source": [
    "Plot the FAR, defined as the number of triggers divided by the total analysis time, as a function of the minimum trigger height."
   ]
  },
  {
   "cell_type": "code",
   "execution_count": 9,
   "metadata": {},
   "outputs": [
    {
     "data": {
      "image/png": "[encoded data removed]",
      "text/plain": [
       "<Figure size 720x396 with 1 Axes>"
      ]
     },
     "metadata": {},
     "output_type": "display_data"
    }
   ],
   "source": [
    "fig, ax = plt.subplots(1, figsize=(10, 5.5))\n",
    "\n",
    "FAR = num_triggers/T_analysis \n",
    "error_FAR = np.sqrt(num_triggers) / T_analysis\n",
    "\n",
    "# plot FAR with error bar\n",
    "ax.hist(min_heights, min_heights[:-1], weights=FAR, alpha=0.8)\n",
    "ax.errorbar(min_heights + 0.25, FAR, yerr=error_FAR, \n",
    "            fmt='.', color='k', markersize=0, capsize=2, lw=2)\n",
    "\n",
    "ax.set_xlabel('Minimum trigger height')\n",
    "ax.set_ylabel(r'FAR $[\\mathrm{yr}^{-1}]$')\n",
    "ax.set_yscale('log')\n",
    "ax.set_ylim(1, 1e7)\n",
    "ax.set_xlim(0, 30)\n",
    "\n",
    "# format ticker\n",
    "locmaj = mpl.ticker.LogLocator(base=10, numticks=12) \n",
    "ax.yaxis.set_major_locator(locmaj)\n",
    "locmin = mpl.ticker.LogLocator(base=10.0, subs=(0.2,0.4,0.6,0.8), numticks=12)\n",
    "ax.yaxis.set_minor_locator(locmin)\n",
    "ax.yaxis.set_minor_formatter(mpl.ticker.NullFormatter())\n",
    "\n",
    "fig.tight_layout()"
   ]
  },
  {
   "cell_type": "markdown",
   "metadata": {},
   "source": [
    "According to the figure, at the minimum trigger height of 20, we expect to see about 20-30 false triggers per year. This is not too bad. \n",
    "\n",
    "In order to get the tail of the distribution, we need to run over a longer duration of data. For that, we will run our background subtraction + peak finder algorithm over all 600 timeslides, including the 0-lag data. The code block below will do just that. Since there are lots of data, it will run for a much longer time (about 1-2 hours)."
   ]
  },
  {
   "cell_type": "code",
   "execution_count": 10,
   "metadata": {},
   "outputs": [
    {
     "name": "stdout",
     "output_type": "stream",
     "text": [
      "Progress: 0%\n",
      "Progress: 10%\n",
      "Progress: 20%\n",
      "Progress: 30%\n",
      "Progress: 40%\n",
      "Progress: 50%\n",
      "Progress: 60%\n",
      "Progress: 70%\n",
      "Progress: 80%\n",
      "Progress: 90%\n"
     ]
    }
   ],
   "source": [
    "# Define some peak finder parameters\n",
    "# same with above, but we vary the minimum height instaed\n",
    "sample_rate = 16  # sample rate of network output\n",
    "min_width = 0.95 * sample_rate\n",
    "max_width = 1.05 * sample_rate\n",
    "min_heights = np.arange(0., 30., 0.5)\n",
    "\n",
    "# Define timeslides and directory\n",
    "timeslides = np.arange(0., 300, 0.5)\n",
    "triggers_output_dir = 'false_alarm_triggers'\n",
    "\n",
    "os.makedirs(triggers_output_dir, exist_ok=True)\n",
    "\n",
    "# Loop over all timeslides\n",
    "for i, tslide in enumerate(timeslides):\n",
    "    \n",
    "    # Print out every 10% done\n",
    "    if i % 60 == 0:\n",
    "        print('Progress: {:}%'.format(int(i / 600 * 100)))\n",
    "    \n",
    "    # Ignore if output file already exists\n",
    "    triggers_output_file = os.path.join(\n",
    "        triggers_output_dir, 'rate-{:.1f}.hdf5'.format(tslide))\n",
    "    if os.path.exists(triggers_output_file):\n",
    "        continue\n",
    "\n",
    "    # Similarly to above, for each timeslide, we keep track of the number of triggers \n",
    "    # and total analysis time\n",
    "    num_triggers = np.zeros_like(min_heights)\n",
    "    T_analysis = 0\n",
    "    \n",
    "    # Loop over all output files and get the frame containing GW170809\n",
    "    for i_job in range(num_jobs):\n",
    "\n",
    "        # Similarly to above, but with the timeslide as a parameter\n",
    "        output_files = sorted(glob.glob(os.path.join(\n",
    "            output_dir, 'dt-{:.1f}/{}/out/*.hdf5'.format(tslide, i_job))))\n",
    "\n",
    "        for output_file in output_files:\n",
    "            with h5py.File(output_file, 'r') as f:\n",
    "                # read in gps time of frame\n",
    "                t_start = f['GPSstart'][0]\n",
    "                t_stop = f['GPSstart'][-1]\n",
    "\n",
    "                # we want to check if there is a confirmed GW in the frame\n",
    "                # we will ignore those frame\n",
    "                has_event = False\n",
    "                for name, tc in zip(event_names, event_tc):\n",
    "                    if (t_start < tc) & (tc < t_stop):\n",
    "                        has_event = True\n",
    "                if has_event:\n",
    "                    continue\n",
    "\n",
    "                # If there is no confirmed GW event\n",
    "                # get data and apply background subtraction\n",
    "                t = f['GPSstart'][:]\n",
    "                output = f['out'][:].ravel()\n",
    "                output = transform(t, output)\n",
    "\n",
    "                # use scipy.signal.find_peaks to find triggers\n",
    "                # count number of triggers as a function of the trigger height\n",
    "                for i, height in enumerate(min_heights):\n",
    "                    triggers, _ = sig.find_peaks(\n",
    "                        output, height=height, width=(min_width, max_width))\n",
    "                    num_triggers[i] += len(triggers)\n",
    "\n",
    "                # also keep track of live time\n",
    "                T_analysis += t_stop - t_start\n",
    "\n",
    "        # convert livetime from seconds to years\n",
    "        T_analysis /= 3.154e+7  \n",
    "\n",
    "    # We store output file in HDF5 format for each timeslide\n",
    "    with h5py.File(triggers_output_file, 'w') as f:\n",
    "        f.create_dataset('min_heights', data=min_heights)\n",
    "        f.create_dataset('num_triggers', data=num_triggers)\n",
    "        f.attrs.update({\n",
    "            'T_analysis': T_analysis\n",
    "        })"
   ]
  },
  {
   "cell_type": "markdown",
   "metadata": {},
   "source": [
    "Once this is done, for each minimum height, we add the number of false triggers of each timeslide together, and plot the FAR v. minimum height similarly to above."
   ]
  },
  {
   "cell_type": "code",
   "execution_count": 11,
   "metadata": {},
   "outputs": [],
   "source": [
    "# Read in trigger output\n",
    "num_triggers = np.zeros_like(min_heights)\n",
    "T_analysis = 0\n",
    "for tslide in timeslides:\n",
    "    triggers_output_file = os.path.join(\n",
    "        triggers_output_dir, 'rate-{:.1f}.hdf5'.format(tslide))\n",
    "    with h5py.File(triggers_output_file, 'r') as f:\n",
    "        T_analysis += f.attrs['T_analysis']\n",
    "        num_triggers += f['num_triggers'][:]"
   ]
  },
  {
   "cell_type": "code",
   "execution_count": 12,
   "metadata": {},
   "outputs": [
    {
     "data": {
      "image/png": "[encoded data removed]",
      "text/plain": [
       "<Figure size 720x396 with 1 Axes>"
      ]
     },
     "metadata": {},
     "output_type": "display_data"
    }
   ],
   "source": [
    "fig, ax = plt.subplots(1, figsize=(10, 5.5))\n",
    "\n",
    "# plot FAR with error bar\n",
    "FAR = num_triggers/T_analysis \n",
    "error_FAR = np.sqrt(num_triggers) / T_analysis\n",
    "\n",
    "ax.hist(min_heights, min_heights[:-1], weights=FAR, alpha=0.8)\n",
    "ax.errorbar(min_heights + 0.25, FAR, yerr=error_FAR, \n",
    "            fmt='.', color='k', markersize=0, capsize=2, lw=2)\n",
    "ax.set_xlabel('Minimum trigger height')\n",
    "ax.set_ylabel(r'FAR $[\\mathrm{yr}^{-1}]$')\n",
    "ax.set_yscale('log')\n",
    "ax.set_ylim(1e-2, 4e6)\n",
    "ax.set_xlim(0., 30)\n",
    "\n",
    "# format ticker\n",
    "locmaj = mpl.ticker.LogLocator(base=10, numticks=12) \n",
    "ax.yaxis.set_major_locator(locmaj)\n",
    "locmin = mpl.ticker.LogLocator(base=10.0, subs=(0.2,0.4,0.6,0.8), numticks=12)\n",
    "ax.yaxis.set_minor_locator(locmin)\n",
    "ax.yaxis.set_minor_formatter(mpl.ticker.NullFormatter())\n",
    "\n",
    "fig.tight_layout()"
   ]
  }
 ],
 "metadata": {
  "kernelspec": {
   "display_name": "pytorch",
   "language": "python",
   "name": "pytorch"
  },
  "language_info": {
   "codemirror_mode": {
    "name": "ipython",
    "version": 3
   },
   "file_extension": ".py",
   "mimetype": "text/x-python",
   "name": "python",
   "nbconvert_exporter": "python",
   "pygments_lexer": "ipython3",
   "version": "3.8.3"
  }
 },
 "nbformat": 4,
 "nbformat_minor": 4
}
